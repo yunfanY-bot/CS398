{
 "cells": [
  {
   "cell_type": "markdown",
   "id": "61e8fe2c",
   "metadata": {
    "slideshow": {
     "slide_type": "slide"
    }
   },
   "source": [
    "# Lecture 1 - Introduction and software install\n",
    "## ECE398 - Programming Methods for Machine Learning\n",
    "### Created by Alexander Schwing and Yun-Sheng Chen in Fall 2021; Taught by Aiguo Han in Spring 2022"
   ]
  },
  {
   "cell_type": "markdown",
   "id": "98dcc27e",
   "metadata": {
    "slideshow": {
     "slide_type": "slide"
    }
   },
   "source": [
    "Goals of this lecture:\n",
    "- Introduction\n",
    "- Software installation\n",
    "- Examples\n",
    "- Organizational details"
   ]
  },
  {
   "cell_type": "markdown",
   "id": "25c199a8",
   "metadata": {
    "slideshow": {
     "slide_type": "slide"
    }
   },
   "source": [
    "## Introduction"
   ]
  },
  {
   "cell_type": "markdown",
   "id": "e0578281",
   "metadata": {
    "slideshow": {
     "slide_type": "slide"
    }
   },
   "source": [
    "### Your instructor\n",
    "- Aiguo Han, Research Assistant Professor in ECE\n",
    "- E-mail: han51@illinois.edu\n",
    "- Office: 2058 ECEB\n",
    "- Website: https://aiguohan.github.io/"
   ]
  },
  {
   "cell_type": "markdown",
   "id": "ed9fada4",
   "metadata": {
    "slideshow": {
     "slide_type": "slide"
    }
   },
   "source": [
    "### Discuss with your class mates\n",
    "\n",
    "- Introduce yourself\n",
    "- What do you know about deep learning\n",
    "- what can deep learning be used for\n",
    "- where have you used deep learning"
   ]
  },
  {
   "cell_type": "markdown",
   "id": "9be86c0c",
   "metadata": {
    "slideshow": {
     "slide_type": "slide"
    }
   },
   "source": [
    "### Share experience in class"
   ]
  },
  {
   "cell_type": "markdown",
   "id": "a76edba5",
   "metadata": {
    "slideshow": {
     "slide_type": "slide"
    }
   },
   "source": [
    "### Welcome to ECE398 - Programming Methods for Machine Learning\n",
    "\n",
    "In this course you will:\n",
    "\n",
    "* Get to know linear algebra using Python\n",
    "* Fit linear functions using auto-differentiation\n",
    "* Build complex neural/deep networks\n",
    "* Use distributed systems for faster training\n",
    "* Extend Pytorch with custom functions"
   ]
  },
  {
   "cell_type": "markdown",
   "id": "54d3eba3",
   "metadata": {
    "slideshow": {
     "slide_type": "slide"
    }
   },
   "source": [
    "We will use PyTorch which is an open source machine learning library based on the Torch library, used for applications such as computer vision and natural language processing, primarily developed by Facebook's AI Research lab.\n",
    "\n",
    "We use PyTorch to: \n",
    "- Quickly protype complex neural networks\n",
    "- Do fast auto-gradient computations \n",
    "- Utilize known ML corpora/models "
   ]
  },
  {
   "cell_type": "markdown",
   "id": "7a312823",
   "metadata": {
    "slideshow": {
     "slide_type": "slide"
    }
   },
   "source": [
    "## Software installation"
   ]
  },
  {
   "cell_type": "markdown",
   "id": "68608696",
   "metadata": {
    "slideshow": {
     "slide_type": "slide"
    }
   },
   "source": [
    "### To use PyTorch, you will need a Python environment. You can install Python with: "
   ]
  },
  {
   "cell_type": "markdown",
   "id": "a1f16d28",
   "metadata": {
    "slideshow": {
     "slide_type": "fragment"
    }
   },
   "source": [
    "- Anaconda - a Python distribution aimed at package management which installs many packages directly (https://www.anaconda.com/products/individual)\n",
    "- Miniconda - another Python package manager which only installs the minimum number of necessary packages (https://docs.conda.io/en/latest/miniconda.html)\n",
    "\n",
    "Which one? https://docs.conda.io/projects/conda/en/latest/user-guide/install/download.html#anaconda-or-miniconda"
   ]
  },
  {
   "cell_type": "markdown",
   "id": "0c394402",
   "metadata": {
    "slideshow": {
     "slide_type": "fragment"
    }
   },
   "source": [
    "- Using a Unix software manager (brew, apt-get, yum, etc.)"
   ]
  },
  {
   "cell_type": "markdown",
   "id": "5ce6a7a3",
   "metadata": {
    "slideshow": {
     "slide_type": "fragment"
    }
   },
   "source": [
    "- Direct download from the website. "
   ]
  },
  {
   "cell_type": "markdown",
   "id": "b0315d70",
   "metadata": {
    "slideshow": {
     "slide_type": "slide"
    }
   },
   "source": [
    "How to use conda:\n",
    "- Check the conda cheat sheet: \n",
    "    * https://conda.io/projects/conda/en/latest/user-guide/getting-started.html#starting-conda \n",
    "    * https://docs.conda.io/projects/conda/en/4.6.0/_downloads/52a95608c49671267e40c689e0bc00ca/conda-cheatsheet.pdf\n",
    "    \n",
    "Typically:\n",
    "- create an environment with ```$ conda create --name {EnvironmentName} python=3.8.8```\n",
    "- activate the environment with ```$ conda activate {EnvironmentName}```\n",
    "- deactivate the environment when done with ```$ conda deactivate```"
   ]
  },
  {
   "cell_type": "markdown",
   "id": "0af23fcd",
   "metadata": {
    "slideshow": {
     "slide_type": "slide"
    }
   },
   "source": [
    "Verify your Python installation (after activating the environment) by typing: \n",
    "\n",
    "``` $ python --version ``` \n",
    "or ``` $ python -V ``` \n",
    "\n",
    "in the command line. You should get:\n",
    "\n",
    "``` Python 3.8.8 ```\n",
    "\n",
    "Using Python3 in this course. "
   ]
  },
  {
   "cell_type": "markdown",
   "id": "3b27389f",
   "metadata": {
    "slideshow": {
     "slide_type": "slide"
    }
   },
   "source": [
    "To check which python you are using you may type\n",
    "\n",
    "``` $ which python ```\n",
    "\n",
    "which should point you to the current python executable that you will use.\n",
    "\n",
    "If you are using a Windows system, type \n",
    "\n",
    "``` $ where.exe python ```"
   ]
  },
  {
   "cell_type": "markdown",
   "id": "e973d863",
   "metadata": {
    "slideshow": {
     "slide_type": "slide"
    }
   },
   "source": [
    "### Install Python libraries\n",
    "Pip is the Python Packaging Authority’s recommended tool for installing packages. <br>\n",
    "Conda is a cross platform package and environment manager that installs and manages conda packages from the Anaconda repository. <br> \n",
    "You may check here (https://www.anaconda.com/blog/understanding-conda-and-pip) for the differnce between conda and pip<br>\n",
    "\n",
    "You can use ``` conda install ``` or ```pip3``` to install python libraries. Here are examples using Conda \n",
    "\n",
    "- To install numpy: ``` $ conda install numpy ```\n",
    "- To install matplotlib: ``` $ conda install matplotlib ```\n",
    "- To install pytorch: ``` $ conda install pytorch torchvision torchaudio -c pytorch ```\n",
    "\n",
    "To install specific versions (used in this course):\n",
    "- ``` $ conda install numpy==1.20.2 ```\n",
    "- ``` $ conda install pytorch==1.9.0 torchvision==0.10.0 torchaudio==0.9.0 -c pytorch ```\n",
    "\n",
    "To start an interactive python environment type ``` $ python ```\n",
    "\n",
    "Within the interactive python environment you can load numpy or pytorch via"
   ]
  },
  {
   "cell_type": "code",
   "execution_count": 1,
   "id": "15f115c4",
   "metadata": {
    "cell_style": "split",
    "slideshow": {
     "slide_type": "fragment"
    }
   },
   "outputs": [
    {
     "name": "stdout",
     "output_type": "stream",
     "text": [
      "1.20.2\n"
     ]
    }
   ],
   "source": [
    "import numpy as np\n",
    "print(np.__version__)"
   ]
  },
  {
   "cell_type": "code",
   "execution_count": 2,
   "id": "2388227a",
   "metadata": {
    "cell_style": "split",
    "slideshow": {
     "slide_type": "fragment"
    }
   },
   "outputs": [
    {
     "name": "stdout",
     "output_type": "stream",
     "text": [
      "1.9.0\n"
     ]
    }
   ],
   "source": [
    "import torch\n",
    "print(torch.__version__)"
   ]
  },
  {
   "cell_type": "markdown",
   "id": "07ec6c99",
   "metadata": {
    "slideshow": {
     "slide_type": "slide"
    }
   },
   "source": [
    "### Coding environments\n",
    "\n",
    "- You can use any IDE (integrated development environment) you are most comfortable with (such as VSCode, PyCharm). \n",
    "- Class slides/notes consist of Jupyter notebooks\n",
    "- Highly recommend using Jupyter notebooks for code development\n",
    "    - Run Jupyter notebooks locally using Anaconda/Miniconda (``` $ conda install -c conda-forge notebook ``` or ``` $ conda install -c conda-forge jupyterlab ```)\n",
    "    - Run notebooks remotely using Google Colab\n",
    "- Highly recommend using Git for saving/sharing work. (https://docs.qubole.com/en/latest/user-guide/notebooks-and-dashboards/notebooks/jupyter-notebooks/managing-jupy-notebook-versions/link-jupy-notebook-github.html#push-commit-jupy)"
   ]
  },
  {
   "cell_type": "markdown",
   "id": "60adb667",
   "metadata": {
    "slideshow": {
     "slide_type": "slide"
    }
   },
   "source": [
    "### Jupyter notebook demonstration (on Google colab)\n",
    "\n",
    "- http://colab.research.google.com (provides access to GPUs and TPUs)"
   ]
  },
  {
   "cell_type": "markdown",
   "id": "4cd7e3a0",
   "metadata": {
    "slideshow": {
     "slide_type": "slide"
    }
   },
   "source": [
    "## Examples"
   ]
  },
  {
   "cell_type": "markdown",
   "id": "692322b0",
   "metadata": {
    "slideshow": {
     "slide_type": "slide"
    }
   },
   "source": [
    "### Datasets\n",
    "\n",
    "PyTorch has a lot of public datasets (some of which we will use in this class): "
   ]
  },
  {
   "cell_type": "code",
   "execution_count": 3,
   "id": "ba2b7263",
   "metadata": {
    "slideshow": {
     "slide_type": "fragment"
    }
   },
   "outputs": [],
   "source": [
    "from torchvision import datasets, transforms"
   ]
  },
  {
   "cell_type": "code",
   "execution_count": 6,
   "id": "fd9d1015",
   "metadata": {
    "slideshow": {
     "slide_type": "fragment"
    }
   },
   "outputs": [],
   "source": [
    "transform=transforms.Compose([transforms.ToTensor(), transforms.Normalize((0.1307,), (0.3081,))])\n",
    "dataset1 = datasets.MNIST('../data', train=True, download=True, transform=transform)\n",
    "train_loader = torch.utils.data.DataLoader(dataset1, batch_size=9)"
   ]
  },
  {
   "cell_type": "code",
   "execution_count": 7,
   "id": "cf8d72b6",
   "metadata": {
    "slideshow": {
     "slide_type": "fragment"
    }
   },
   "outputs": [],
   "source": [
    "# get some random training images\n",
    "dataiter = iter(train_loader)\n",
    "images,labels = dataiter.next()"
   ]
  },
  {
   "cell_type": "code",
   "execution_count": 8,
   "id": "2614a2c1",
   "metadata": {
    "slideshow": {
     "slide_type": "fragment"
    }
   },
   "outputs": [
    {
     "name": "stdout",
     "output_type": "stream",
     "text": [
      "Label:0\n"
     ]
    },
    {
     "data": {
      "image/png": "[encoded data removed]",
      "text/plain": [
       "<Figure size 432x288 with 1 Axes>"
      ]
     },
     "metadata": {
      "needs_background": "light"
     },
     "output_type": "display_data"
    }
   ],
   "source": [
    "import matplotlib.pyplot as plt\n",
    "#dataloader outputs 4D tensor [batch,channel,heaight,width]\n",
    "plt.imshow(np.transpose(images[1].numpy(), (1,2,0))) \n",
    "print('Label:' + str(labels[1].numpy()))"
   ]
  },
  {
   "cell_type": "markdown",
   "id": "4d8145ac",
   "metadata": {
    "slideshow": {
     "slide_type": "slide"
    }
   },
   "source": [
    "### Deep Learning\n",
    "\n",
    "We will also get to learn how to train and use deep learning models."
   ]
  },
  {
   "cell_type": "markdown",
   "id": "f28f34aa",
   "metadata": {
    "slideshow": {
     "slide_type": "slide"
    }
   },
   "source": [
    "**Example from a later class**"
   ]
  },
  {
   "cell_type": "code",
   "execution_count": 13,
   "id": "77b6f10b",
   "metadata": {
    "scrolled": true,
    "slideshow": {
     "slide_type": "slide"
    }
   },
   "outputs": [
    {
     "name": "stderr",
     "output_type": "stream",
     "text": [
      "Downloading: \"https://download.pytorch.org/models/resnet18-f37072fd.pth\" to C:\\Users\\aiguo/.cache\\torch\\hub\\checkpoints\\resnet18-f37072fd.pth\n",
      "100.0%\n"
     ]
    }
   ],
   "source": [
    "import torch\n",
    "model = torch.hub.load('pytorch/vision', 'resnet18', pretrained=True)\n",
    "\n",
    "# If the above code does not work, use the following hack fix\n",
    "# import torchvision\n",
    "# model = torchvision.models.resnet18(pretrained=True, progress=True)"
   ]
  },
  {
   "cell_type": "code",
   "execution_count": 14,
   "id": "eb22923b",
   "metadata": {
    "slideshow": {
     "slide_type": "slide"
    }
   },
   "outputs": [
    {
     "data": {
      "text/plain": [
       "ResNet(\n",
       "  (conv1): Conv2d(3, 64, kernel_size=(7, 7), stride=(2, 2), padding=(3, 3), bias=False)\n",
       "  (bn1): BatchNorm2d(64, eps=1e-05, momentum=0.1, affine=True, track_running_stats=True)\n",
       "  (relu): ReLU(inplace=True)\n",
       "  (maxpool): MaxPool2d(kernel_size=3, stride=2, padding=1, dilation=1, ceil_mode=False)\n",
       "  (layer1): Sequential(\n",
       "    (0): BasicBlock(\n",
       "      (conv1): Conv2d(64, 64, kernel_size=(3, 3), stride=(1, 1), padding=(1, 1), bias=False)\n",
       "      (bn1): BatchNorm2d(64, eps=1e-05, momentum=0.1, affine=True, track_running_stats=True)\n",
       "      (relu): ReLU(inplace=True)\n",
       "      (conv2): Conv2d(64, 64, kernel_size=(3, 3), stride=(1, 1), padding=(1, 1), bias=False)\n",
       "      (bn2): BatchNorm2d(64, eps=1e-05, momentum=0.1, affine=True, track_running_stats=True)\n",
       "    )\n",
       "    (1): BasicBlock(\n",
       "      (conv1): Conv2d(64, 64, kernel_size=(3, 3), stride=(1, 1), padding=(1, 1), bias=False)\n",
       "      (bn1): BatchNorm2d(64, eps=1e-05, momentum=0.1, affine=True, track_running_stats=True)\n",
       "      (relu): ReLU(inplace=True)\n",
       "      (conv2): Conv2d(64, 64, kernel_size=(3, 3), stride=(1, 1), padding=(1, 1), bias=False)\n",
       "      (bn2): BatchNorm2d(64, eps=1e-05, momentum=0.1, affine=True, track_running_stats=True)\n",
       "    )\n",
       "  )\n",
       "  (layer2): Sequential(\n",
       "    (0): BasicBlock(\n",
       "      (conv1): Conv2d(64, 128, kernel_size=(3, 3), stride=(2, 2), padding=(1, 1), bias=False)\n",
       "      (bn1): BatchNorm2d(128, eps=1e-05, momentum=0.1, affine=True, track_running_stats=True)\n",
       "      (relu): ReLU(inplace=True)\n",
       "      (conv2): Conv2d(128, 128, kernel_size=(3, 3), stride=(1, 1), padding=(1, 1), bias=False)\n",
       "      (bn2): BatchNorm2d(128, eps=1e-05, momentum=0.1, affine=True, track_running_stats=True)\n",
       "      (downsample): Sequential(\n",
       "        (0): Conv2d(64, 128, kernel_size=(1, 1), stride=(2, 2), bias=False)\n",
       "        (1): BatchNorm2d(128, eps=1e-05, momentum=0.1, affine=True, track_running_stats=True)\n",
       "      )\n",
       "    )\n",
       "    (1): BasicBlock(\n",
       "      (conv1): Conv2d(128, 128, kernel_size=(3, 3), stride=(1, 1), padding=(1, 1), bias=False)\n",
       "      (bn1): BatchNorm2d(128, eps=1e-05, momentum=0.1, affine=True, track_running_stats=True)\n",
       "      (relu): ReLU(inplace=True)\n",
       "      (conv2): Conv2d(128, 128, kernel_size=(3, 3), stride=(1, 1), padding=(1, 1), bias=False)\n",
       "      (bn2): BatchNorm2d(128, eps=1e-05, momentum=0.1, affine=True, track_running_stats=True)\n",
       "    )\n",
       "  )\n",
       "  (layer3): Sequential(\n",
       "    (0): BasicBlock(\n",
       "      (conv1): Conv2d(128, 256, kernel_size=(3, 3), stride=(2, 2), padding=(1, 1), bias=False)\n",
       "      (bn1): BatchNorm2d(256, eps=1e-05, momentum=0.1, affine=True, track_running_stats=True)\n",
       "      (relu): ReLU(inplace=True)\n",
       "      (conv2): Conv2d(256, 256, kernel_size=(3, 3), stride=(1, 1), padding=(1, 1), bias=False)\n",
       "      (bn2): BatchNorm2d(256, eps=1e-05, momentum=0.1, affine=True, track_running_stats=True)\n",
       "      (downsample): Sequential(\n",
       "        (0): Conv2d(128, 256, kernel_size=(1, 1), stride=(2, 2), bias=False)\n",
       "        (1): BatchNorm2d(256, eps=1e-05, momentum=0.1, affine=True, track_running_stats=True)\n",
       "      )\n",
       "    )\n",
       "    (1): BasicBlock(\n",
       "      (conv1): Conv2d(256, 256, kernel_size=(3, 3), stride=(1, 1), padding=(1, 1), bias=False)\n",
       "      (bn1): BatchNorm2d(256, eps=1e-05, momentum=0.1, affine=True, track_running_stats=True)\n",
       "      (relu): ReLU(inplace=True)\n",
       "      (conv2): Conv2d(256, 256, kernel_size=(3, 3), stride=(1, 1), padding=(1, 1), bias=False)\n",
       "      (bn2): BatchNorm2d(256, eps=1e-05, momentum=0.1, affine=True, track_running_stats=True)\n",
       "    )\n",
       "  )\n",
       "  (layer4): Sequential(\n",
       "    (0): BasicBlock(\n",
       "      (conv1): Conv2d(256, 512, kernel_size=(3, 3), stride=(2, 2), padding=(1, 1), bias=False)\n",
       "      (bn1): BatchNorm2d(512, eps=1e-05, momentum=0.1, affine=True, track_running_stats=True)\n",
       "      (relu): ReLU(inplace=True)\n",
       "      (conv2): Conv2d(512, 512, kernel_size=(3, 3), stride=(1, 1), padding=(1, 1), bias=False)\n",
       "      (bn2): BatchNorm2d(512, eps=1e-05, momentum=0.1, affine=True, track_running_stats=True)\n",
       "      (downsample): Sequential(\n",
       "        (0): Conv2d(256, 512, kernel_size=(1, 1), stride=(2, 2), bias=False)\n",
       "        (1): BatchNorm2d(512, eps=1e-05, momentum=0.1, affine=True, track_running_stats=True)\n",
       "      )\n",
       "    )\n",
       "    (1): BasicBlock(\n",
       "      (conv1): Conv2d(512, 512, kernel_size=(3, 3), stride=(1, 1), padding=(1, 1), bias=False)\n",
       "      (bn1): BatchNorm2d(512, eps=1e-05, momentum=0.1, affine=True, track_running_stats=True)\n",
       "      (relu): ReLU(inplace=True)\n",
       "      (conv2): Conv2d(512, 512, kernel_size=(3, 3), stride=(1, 1), padding=(1, 1), bias=False)\n",
       "      (bn2): BatchNorm2d(512, eps=1e-05, momentum=0.1, affine=True, track_running_stats=True)\n",
       "    )\n",
       "  )\n",
       "  (avgpool): AdaptiveAvgPool2d(output_size=(1, 1))\n",
       "  (fc): Linear(in_features=512, out_features=1000, bias=True)\n",
       ")"
      ]
     },
     "execution_count": 14,
     "metadata": {},
     "output_type": "execute_result"
    }
   ],
   "source": [
    "model.eval()"
   ]
  },
  {
   "cell_type": "code",
   "execution_count": 15,
   "id": "d3da8427",
   "metadata": {
    "slideshow": {
     "slide_type": "slide"
    }
   },
   "outputs": [],
   "source": [
    "filename = 'files/German_Shepherd.jpg'"
   ]
  },
  {
   "cell_type": "code",
   "execution_count": 16,
   "id": "1dad0207",
   "metadata": {
    "slideshow": {
     "slide_type": "slide"
    }
   },
   "outputs": [],
   "source": [
    "from PIL import Image\n",
    "from torchvision import transforms\n",
    "input_image = Image.open(filename)"
   ]
  },
  {
   "cell_type": "code",
   "execution_count": 17,
   "id": "8d447cd4",
   "metadata": {
    "slideshow": {
     "slide_type": "slide"
    }
   },
   "outputs": [
    {
     "data": {
      "text/plain": [
       "<matplotlib.image.AxesImage at 0x279a800a2e0>"
      ]
     },
     "execution_count": 17,
     "metadata": {},
     "output_type": "execute_result"
    },
    {
     "data": {
      "image/png": "[encoded data removed]",
      "text/plain": [
       "<Figure size 432x288 with 1 Axes>"
      ]
     },
     "metadata": {
      "needs_background": "light"
     },
     "output_type": "display_data"
    }
   ],
   "source": [
    "import matplotlib.pyplot as plt\n",
    "plt.imshow(input_image)"
   ]
  },
  {
   "cell_type": "code",
   "execution_count": 18,
   "id": "c4f03421",
   "metadata": {
    "slideshow": {
     "slide_type": "slide"
    }
   },
   "outputs": [
    {
     "name": "stdout",
     "output_type": "stream",
     "text": [
      "torch.Size([1, 3, 224, 224])\n"
     ]
    }
   ],
   "source": [
    "preprocess = transforms.Compose([\n",
    "    transforms.Resize(256),\n",
    "    transforms.CenterCrop(224),\n",
    "    transforms.ToTensor(),\n",
    "    transforms.Normalize(mean=[0.485, 0.456, 0.406], std=[0.229, 0.224, 0.225]),\n",
    "])\n",
    "input_tensor = preprocess(input_image)\n",
    "input_batch = input_tensor.unsqueeze(0) # create a mini-batch as expected by the model\n",
    "\n",
    "print(input_batch.shape)"
   ]
  },
  {
   "cell_type": "code",
   "execution_count": 19,
   "id": "aafdc5da",
   "metadata": {
    "slideshow": {
     "slide_type": "slide"
    }
   },
   "outputs": [
    {
     "name": "stdout",
     "output_type": "stream",
     "text": [
      "tensor([-8.7770e-02, -1.3655e+00, -3.9318e-01, -1.4255e+00, -8.2234e-01,\n",
      "        -8.6616e-01, -2.5743e+00, -2.1052e+00, -1.8484e+00,  2.4362e-01,\n",
      "        -8.9356e-01, -3.6951e+00, -3.3285e+00, -6.6079e-01, -4.9014e+00,\n",
      "        -3.4915e+00, -3.3245e+00, -2.2302e+00, -3.2750e+00, -6.1225e-01,\n",
      "        -4.5975e+00, -2.4344e+00, -5.2141e+00, -1.8037e+00, -4.2785e+00,\n",
      "        -2.5093e+00, -1.0689e+00, -2.6248e+00, -2.0633e+00, -2.5709e+00,\n",
      "        -1.0227e+00, -2.8457e+00, -9.8417e-01,  2.9557e+00,  1.4937e+00,\n",
      "        -1.1293e+00, -2.0149e+00, -2.8957e+00, -1.5578e+00, -2.3524e+00,\n",
      "        -2.0924e+00, -4.1386e+00, -3.9098e+00, -3.6149e+00, -2.3689e+00,\n",
      "        -5.3210e-01, -2.9524e+00, -2.6979e+00, -5.0207e+00,  1.7532e-01,\n",
      "         3.4132e-01, -7.7362e-02, -1.2225e+00, -2.2260e+00, -7.5670e-01,\n",
      "        -3.0086e+00, -3.2422e+00, -2.2473e+00, -9.6908e-01, -2.7562e+00,\n",
      "        -1.0562e+00, -1.6883e+00, -4.3744e-01, -1.7715e+00, -2.1840e+00,\n",
      "         7.9242e-01, -1.6614e+00, -1.2722e+00, -3.2083e+00, -2.8656e+00,\n",
      "        -1.0198e+00, -4.4495e-01, -4.6617e+00, -2.5854e+00, -3.0434e+00,\n",
      "        -4.1524e+00, -2.4959e+00, -9.0070e-01, -6.2413e-01,  1.5712e-01,\n",
      "        -2.8691e+00, -6.8891e+00, -4.2006e+00, -2.8825e+00, -3.3061e+00,\n",
      "        -3.2547e+00, -3.2516e+00, -4.4190e+00, -5.6066e+00, -5.2281e+00,\n",
      "        -4.4970e+00, -4.1853e+00, -3.3453e+00, -1.5653e+00, -2.0235e+00,\n",
      "        -2.8684e+00, -4.3972e+00, -1.0623e+00,  1.0031e+00, -2.8129e-01,\n",
      "        -1.4651e+00, -1.0998e+00, -4.3343e+00, -1.0526e+00,  4.3942e+00,\n",
      "        -2.6635e+00,  1.2581e+00, -1.5924e+00, -1.5133e+00, -1.9419e+00,\n",
      "        -8.8919e-01,  9.1026e-01,  1.7227e+00, -1.9269e-01, -1.1472e+00,\n",
      "        -2.6414e+00,  9.0264e-01, -6.8170e-01,  1.2963e+00, -1.0115e+00,\n",
      "        -1.0519e+00,  9.4650e-01,  8.0709e-01, -5.8493e-01,  2.5818e-01,\n",
      "        -2.2422e+00,  2.0366e+00, -3.4115e+00, -1.2339e+00, -3.8878e+00,\n",
      "        -3.3023e+00, -4.7368e+00, -3.5205e+00, -9.2873e-01, -2.5651e+00,\n",
      "        -4.2546e+00, -1.0315e+00, -1.9449e+00, -4.3402e+00,  1.6807e+00,\n",
      "        -1.8700e+00, -3.0009e+00,  6.8130e-01,  1.1099e+00, -1.4613e-01,\n",
      "        -1.5902e+00, -3.6852e+00, -1.9158e+00, -4.0197e-01, -2.4133e+00,\n",
      "         4.4236e-01,  3.9445e+00,  9.9784e-02, -4.0128e+00,  3.0563e+00,\n",
      "        -1.9240e+00,  3.8412e-01,  8.2847e-01,  3.4513e+00,  5.2831e+00,\n",
      "         3.9940e+00,  7.0673e+00,  6.4844e+00,  1.1832e+01,  6.0400e+00,\n",
      "         4.8323e+00,  5.1297e+00,  6.2730e+00,  6.0974e+00,  4.9772e+00,\n",
      "         5.6642e+00, -1.6418e+00, -3.6904e-01,  1.4325e+00,  9.9453e+00,\n",
      "         8.9205e+00,  2.5541e+00,  3.2911e+00, -3.8941e-01,  2.3302e+00,\n",
      "         3.8524e+00, -3.1364e+00,  8.0065e+00, -1.9332e+00,  4.1756e+00,\n",
      "         6.1282e+00,  8.1352e+00,  2.5630e+00,  4.5101e+00,  4.6217e+00,\n",
      "        -2.0889e+00,  8.3630e+00,  3.8780e+00,  7.5065e+00,  3.9087e+00,\n",
      "         2.3618e+00,  6.7514e-01,  2.7505e+00,  2.6726e+00,  1.0636e+00,\n",
      "         3.1375e+00,  4.9885e+00,  2.4942e+00, -4.6191e-01,  7.3620e-01,\n",
      "         3.4634e+00,  5.9182e-01,  6.2979e+00,  3.3947e+00,  4.6378e+00,\n",
      "        -9.8037e-01,  1.3833e+00,  2.5393e+00,  4.9921e+00,  4.6392e+00,\n",
      "         2.3623e+00,  1.6940e+00,  1.2133e+00,  2.9209e+00,  2.8065e+00,\n",
      "         4.4955e+00, -7.1365e-02,  3.6438e+00,  4.7360e+00,  6.4513e+00,\n",
      "         9.7482e+00,  7.3601e+00,  8.6083e+00, -9.2704e-01,  3.2546e+00,\n",
      "         4.3605e+00,  7.2543e+00,  6.1102e+00,  3.7466e+00,  7.6376e+00,\n",
      "         1.9781e+01,  3.4786e+00,  3.3368e+00,  4.0009e+00,  3.4017e+00,\n",
      "         4.6482e+00,  2.3750e+00,  3.1756e+00,  6.7007e+00,  1.0679e+01,\n",
      "         3.0372e+00,  4.4162e+00,  7.3875e+00,  7.4550e+00,  7.8584e+00,\n",
      "         6.5732e+00, -6.3399e-01,  1.5644e-01,  2.8741e+00,  2.9819e+00,\n",
      "         1.0550e+01,  8.5613e+00,  5.7799e+00,  2.2884e+00,  3.0592e+00,\n",
      "         7.6761e+00,  6.6792e+00,  5.8955e+00,  7.5696e+00,  7.4294e+00,\n",
      "        -1.9531e+00, -2.1463e+00,  2.1494e+00, -9.5954e-01,  8.2478e+00,\n",
      "         4.7167e+00,  7.6549e+00,  6.4034e+00,  8.6169e+00,  6.9402e+00,\n",
      "         4.1001e+00,  1.9360e+00,  2.9337e+00,  2.4730e+00,  2.0487e+00,\n",
      "         4.7067e+00,  2.8010e+00,  1.7668e+00, -1.8854e+00,  9.6643e-01,\n",
      "         1.7646e+00,  2.1251e+00, -6.6029e-01, -2.5944e+00, -2.3034e+00,\n",
      "        -1.5353e+00,  2.1776e+00,  2.1009e+00, -9.4373e-01,  2.3307e+00,\n",
      "         2.3219e-01,  2.3665e+00, -1.9534e+00, -3.3506e+00, -2.3404e+00,\n",
      "        -4.1318e+00, -1.3888e+00, -3.8016e+00, -3.4768e+00, -1.8979e+00,\n",
      "        -2.6786e+00, -3.0359e+00, -2.8654e+00, -1.6410e+00,  1.7391e+00,\n",
      "        -2.3019e+00, -1.9012e+00, -1.7419e+00, -1.9836e+00,  8.2048e-01,\n",
      "        -4.6154e+00, -1.9967e+00, -2.0237e+00, -2.3839e+00, -4.0911e+00,\n",
      "        -3.5579e+00, -1.7676e+00, -3.8696e+00, -3.0073e+00, -5.6518e+00,\n",
      "        -3.6559e+00, -4.1327e+00,  1.8038e+00, -5.1816e-01, -4.1324e-01,\n",
      "         6.4215e-01,  1.7300e+00, -2.5747e+00, -1.1345e+00, -3.0986e+00,\n",
      "        -2.7412e+00, -2.9227e+00,  5.5642e-01, -3.0975e-01, -1.4767e+00,\n",
      "         3.1627e-02,  3.7569e+00,  1.8123e+00, -2.8973e+00,  5.7795e-01,\n",
      "         1.1025e-01,  9.5727e-01,  3.5257e-01, -5.9021e-01, -2.7865e+00,\n",
      "        -3.3069e-04, -1.8279e+00,  2.2741e-01, -8.9692e-01, -9.3011e-01,\n",
      "         1.5191e+00, -5.6587e-01, -8.9361e-01, -1.3336e+00, -1.4815e+00,\n",
      "        -2.1658e+00, -1.9382e+00, -1.8727e-01, -1.6316e+00, -2.3215e+00,\n",
      "        -1.6390e+00, -3.4850e+00, -2.1313e+00, -7.8662e-01, -4.3489e+00,\n",
      "        -1.9848e+00, -1.2799e+00,  9.5579e-01,  1.9903e-02, -2.8385e+00,\n",
      "        -4.6688e+00, -3.2734e+00, -1.5601e+00,  1.3092e+00,  2.4778e+00,\n",
      "         4.5441e-01, -6.7418e-01, -9.6258e-01, -3.1133e+00,  3.0444e-01,\n",
      "         1.7905e-01, -7.3820e-01, -3.6950e+00, -3.4482e+00,  7.5486e-01,\n",
      "        -7.3209e-01,  1.5945e-01, -9.3013e-01, -2.5347e+00,  1.0025e+00,\n",
      "         1.5588e+00, -2.3526e+00, -2.2782e+00,  1.2042e+00, -6.8800e-01,\n",
      "        -9.4268e-01,  2.6576e+00, -7.8566e-01, -7.9110e-01, -2.4670e+00,\n",
      "        -9.5231e-01,  6.3011e-01, -1.2200e+00,  2.5642e+00,  3.4204e-01,\n",
      "         1.8488e-01, -9.7369e-01,  3.3059e+00, -2.7509e+00, -1.4479e+00,\n",
      "         7.2716e-01, -1.0665e+00,  3.1814e+00,  4.9278e-01, -2.1162e+00,\n",
      "        -8.3120e-01,  2.9636e+00,  3.3835e-01, -2.6256e-01,  4.4330e-01,\n",
      "        -9.2915e-01,  1.1550e-01,  2.8532e+00,  1.3017e+00, -9.0142e-01,\n",
      "        -5.0176e-01,  1.7642e-01,  4.0611e-01,  4.1572e+00,  1.9051e-01,\n",
      "         1.1871e+00,  9.0759e-01,  2.4482e+00, -2.6450e+00,  9.0654e-01,\n",
      "         1.2140e-01, -6.0393e-01,  1.1725e+00, -2.5802e+00, -1.0998e+00,\n",
      "         1.7984e+00,  2.2175e-02,  1.1463e+00,  3.2773e-02,  3.6643e+00,\n",
      "        -9.4427e-01, -6.7965e-01, -3.0934e+00, -3.5510e-01, -8.0240e-01,\n",
      "         2.7997e+00, -3.2377e+00,  1.5545e-02, -6.0410e-02, -6.3086e-01,\n",
      "         1.2268e+00, -2.4238e+00, -3.7956e-01,  4.2199e+00,  2.1524e+00,\n",
      "         2.8741e+00, -1.3314e+00, -9.8867e-01, -1.2317e-01,  1.3649e+00,\n",
      "         1.0177e+00,  1.9769e+00,  3.7678e+00, -1.6885e+00, -2.4439e+00,\n",
      "        -2.8718e-01,  5.2898e-01, -5.8365e-01, -1.7070e+00,  1.7780e+00,\n",
      "        -7.8256e-02, -4.0666e+00, -6.3874e-01,  2.8471e-01,  8.8706e-01,\n",
      "        -1.3820e+00, -1.1449e+00, -4.4314e-01,  7.5081e-01, -4.7114e-01,\n",
      "        -9.4997e-01, -8.6240e-01,  1.8563e+00, -1.4314e+00,  1.2775e+00,\n",
      "         1.9155e+00, -1.3673e+00,  1.4769e+00,  3.6081e-01, -1.6888e+00,\n",
      "        -2.8267e+00, -2.9940e+00,  1.3131e+00, -1.0236e+00,  1.2255e+00,\n",
      "        -5.9258e-01,  1.4953e+00,  2.0318e+00,  8.4885e-01,  3.6312e-02,\n",
      "         1.8922e+00, -1.0324e+00,  3.4769e-02,  1.3718e+00, -3.6318e-01,\n",
      "        -2.1664e-01, -7.9264e-01,  1.5990e+00,  6.3101e-01,  1.1271e-01,\n",
      "        -1.8325e+00, -2.0137e-01,  1.2976e+00, -7.5358e-01, -1.1353e+00,\n",
      "        -2.3017e-01, -1.1169e+00, -1.0534e+00, -1.4732e+00, -2.2995e+00,\n",
      "         6.1572e-01,  1.5648e+00,  1.4520e-01, -2.7910e+00,  4.4444e-01,\n",
      "        -1.8970e+00,  1.2098e+00,  4.8910e+00,  1.9236e+00,  4.3044e+00,\n",
      "         1.3669e+00,  8.4187e-01, -1.1240e-01,  1.5589e+00,  2.4513e+00,\n",
      "        -6.1230e-01, -1.9003e+00, -5.7498e-01, -9.9195e-02, -2.1358e+00,\n",
      "        -3.6163e+00,  1.8465e+00, -1.5251e+00, -9.5046e-01, -9.4454e-01,\n",
      "        -1.0447e+00,  3.4282e+00, -2.6190e-01, -9.0291e-01,  1.8227e+00,\n",
      "        -1.2612e+00,  1.6941e+00,  2.6814e+00, -9.8596e-01, -3.6805e+00,\n",
      "         7.1323e-01,  1.7113e+00,  1.9996e+00,  2.1353e-01, -4.0770e-01,\n",
      "        -2.7364e+00, -2.4046e+00,  5.9062e-02, -2.3644e+00, -2.5619e-01,\n",
      "        -1.2862e-01,  1.5206e+00,  1.0800e+00,  3.6542e-01,  7.6551e+00,\n",
      "         4.5575e-01,  1.4165e+00, -3.7662e-01, -9.3635e-01, -1.2149e+00,\n",
      "        -8.9185e-01,  1.4452e+00, -8.3003e-01,  1.0054e+00, -8.3640e-01,\n",
      "        -1.1929e+00, -1.0828e+00, -3.6368e+00, -1.1305e+00,  3.2183e-01,\n",
      "        -3.0433e-01, -2.5888e+00, -3.2679e+00, -7.5249e-01,  1.9979e+00,\n",
      "         9.9554e-01, -2.3224e+00, -1.1090e+00, -1.0443e+00, -2.6884e-01,\n",
      "         4.3874e-01, -1.4244e+00, -5.6094e-01, -1.7815e+00,  3.1291e+00,\n",
      "        -2.3440e-01, -3.2249e-01, -2.8413e+00, -2.1323e+00, -2.0672e+00,\n",
      "        -1.8361e+00,  1.6194e-01, -1.3933e+00,  1.9648e+00,  1.2281e+00,\n",
      "        -1.0518e-01,  6.2399e-01, -2.7896e-01, -2.2684e+00,  1.0028e+00,\n",
      "        -3.1867e-01, -4.3834e-02,  1.2727e+00,  1.0058e-01,  1.7946e+00,\n",
      "         4.6778e-02,  2.2732e-01,  1.9427e+00,  2.6192e-01,  6.5518e-01,\n",
      "         1.2940e+00, -1.3301e+00,  8.6885e-01,  1.1185e+00,  3.4519e+00,\n",
      "        -1.1798e+00,  4.8387e-01,  1.2069e-01, -1.2859e+00,  7.9125e-01,\n",
      "        -2.0208e+00,  1.8060e+00, -1.5801e+00, -1.3880e+00, -2.8688e+00,\n",
      "        -1.0964e+00,  1.2613e+00,  9.7551e-02, -7.2670e-01,  1.6279e+00,\n",
      "         5.4968e-01,  1.3059e+00,  9.2858e-01, -2.7353e+00,  3.5310e-01,\n",
      "         1.1747e+00,  1.3573e-01, -1.7113e+00, -2.1837e-01,  1.4393e+00,\n",
      "        -1.2752e+00, -8.4288e-01, -1.1789e+00,  1.4762e-01, -2.9773e+00,\n",
      "        -1.1839e+00, -1.4263e+00,  4.5805e-02, -9.0794e-01, -5.7305e-01,\n",
      "        -2.4774e-01,  6.1169e+00, -6.0197e-01, -1.2000e+00, -3.1139e-01,\n",
      "        -1.8595e+00, -3.7943e-01, -3.7806e-01,  6.0445e-01, -2.0243e+00,\n",
      "        -2.0806e+00, -1.4980e+00,  1.5949e+00, -2.6543e+00, -2.8309e+00,\n",
      "        -6.5935e-01, -3.2861e-01, -2.3355e+00,  2.8560e+00,  1.4323e+00,\n",
      "        -2.1300e-01, -1.4097e+00, -1.7497e+00,  1.5944e+00, -1.4545e-01,\n",
      "         2.3982e-01,  7.5670e-01, -1.0240e+00,  7.9485e-01, -6.4682e-01,\n",
      "        -4.4911e-01,  1.5740e+00, -7.7939e-01,  4.8122e-01, -2.6075e+00,\n",
      "        -1.1233e+00,  2.1628e+00, -9.9966e-01, -5.1888e-01, -3.6453e-01,\n",
      "         1.0844e+00,  1.9214e+00,  2.4798e-01,  2.1664e+00, -6.8938e-01,\n",
      "        -1.0051e+00, -4.4443e-01,  1.6552e+00, -1.5739e+00, -9.9916e-01,\n",
      "        -4.2499e-01, -1.3841e+00,  8.0478e-01, -6.6914e-01, -3.3808e-01,\n",
      "        -2.1065e-01,  1.6242e+00, -6.7251e-01,  7.5489e-01, -2.6407e+00,\n",
      "        -1.5108e+00, -9.5790e-01,  6.4892e-02,  1.9127e+00,  1.3974e-01,\n",
      "        -1.9505e+00, -1.0825e+00,  1.8818e+00,  7.0436e-01,  1.2973e+00,\n",
      "        -2.5373e+00,  6.3430e-01, -5.6401e-01, -1.1548e+00, -1.5082e+00,\n",
      "         1.6471e+00, -1.3864e+00,  2.6141e-01,  3.4635e+00,  2.7800e-01,\n",
      "         1.1848e+00,  1.8082e+00,  1.8787e+00,  2.6308e+00, -5.8821e-01,\n",
      "         7.3408e-01, -3.3036e-01,  4.4492e-03, -3.3870e-01, -2.3664e+00,\n",
      "        -4.8697e-01,  2.4008e+00, -1.8487e+00, -5.8058e-01, -1.3494e+00,\n",
      "        -1.1479e+00, -5.2228e-03, -9.0012e-01, -2.8546e-01, -1.3750e-01,\n",
      "         1.4660e+00,  1.7945e+00, -1.6067e+00, -8.8851e-01, -2.3665e-01,\n",
      "         6.8860e-02,  7.4557e-01,  1.4275e+00,  1.0523e-01, -6.1952e-01,\n",
      "        -9.4474e-01, -3.9400e+00,  1.1039e+00,  5.3924e-01, -5.4693e-01,\n",
      "        -2.8043e-01, -1.1776e-01,  1.4344e+00,  1.8649e+00, -3.5583e-01,\n",
      "        -1.2183e+00, -5.7108e-01, -5.8162e-01, -2.5974e+00,  2.6303e+00,\n",
      "        -1.7041e+00,  1.1837e+00, -1.4230e+00, -1.0134e+00, -2.2749e-01,\n",
      "         6.3810e+00, -1.9894e+00,  3.3540e+00,  1.3805e+00,  5.7089e-01,\n",
      "        -8.8244e-01,  1.8736e+00,  8.9632e-01,  2.4070e-01,  1.4749e+00,\n",
      "        -9.0667e-01, -2.5720e+00, -1.0602e+00,  5.1714e-01, -1.0516e+00,\n",
      "        -2.0812e+00,  8.2535e-01,  2.5669e+00, -3.0333e+00,  6.7512e-03,\n",
      "        -5.5566e-02, -7.8501e-01,  2.0154e+00,  7.8732e-01,  5.1565e-01,\n",
      "        -1.3263e+00, -1.1770e+00, -1.2051e+00, -8.9505e-01,  1.1103e+00,\n",
      "         8.8493e-01,  6.1395e-01,  1.6686e+00,  7.2142e-01, -8.0437e-01,\n",
      "        -1.0032e+00, -9.9208e-01,  2.5354e+00, -2.0738e+00, -3.9770e-01,\n",
      "        -2.6379e+00,  1.3988e+00,  1.8423e-01, -3.8537e-02, -2.5387e+00,\n",
      "        -2.9909e+00,  9.9018e-01,  5.6707e+00, -2.1025e+00,  3.2297e-01,\n",
      "        -1.6246e+00, -1.0977e+00, -8.0704e-01,  7.9852e-02, -5.0746e-01,\n",
      "        -1.6687e-01,  1.8207e+00,  1.5104e+00, -2.1388e+00, -1.0424e+00,\n",
      "        -1.6985e+00,  3.8929e-01, -1.0346e+00,  2.4419e+00, -2.4648e+00,\n",
      "        -2.1671e+00, -9.4363e-01, -6.8204e-01, -1.4914e+00, -2.8144e+00,\n",
      "         3.3710e+00,  3.4728e+00, -1.2011e+00, -1.0873e+00,  1.4429e+00,\n",
      "         9.0953e-01,  5.5025e+00,  5.2620e-01,  1.1223e+00,  3.6167e-01,\n",
      "        -1.4171e+00, -7.5032e-01, -1.1575e+00,  5.2409e-01,  1.7888e-01,\n",
      "         2.8016e-01, -1.2482e+00,  5.5894e-01, -1.2397e+00, -2.5375e+00,\n",
      "        -9.1227e-01,  2.9712e-01, -1.8852e+00,  2.5292e+00,  6.9984e-01,\n",
      "        -1.1812e+00, -6.3946e-03, -9.5143e-02, -1.8384e+00,  4.2195e+00,\n",
      "         1.2402e+00, -1.1255e+00,  1.6673e+00, -7.0854e-01, -2.6776e-02,\n",
      "         3.9284e-01, -1.3762e+00,  8.8766e-01,  1.2689e+00, -1.3149e-02,\n",
      "        -2.3292e-01,  1.0016e+00, -2.1217e+00, -2.0873e+00, -1.1170e+00,\n",
      "         1.3827e+00,  2.4256e-03, -3.3030e+00, -1.3786e-01, -4.6282e-01,\n",
      "        -1.4842e+00, -1.7116e+00, -2.9506e+00, -1.4197e+00,  1.2556e+00,\n",
      "        -9.3344e-01, -1.4588e+00,  4.3633e-02,  7.4699e-01, -5.7097e-01,\n",
      "        -1.1092e+00, -1.1474e+00, -1.7946e+00, -1.8694e+00,  3.7215e-01,\n",
      "        -2.6462e+00, -1.2397e+00, -1.7019e+00, -1.6245e-01, -3.0855e+00,\n",
      "        -1.4101e+00, -1.8834e+00, -1.8394e+00, -5.7364e-01, -2.5440e+00,\n",
      "        -5.8630e-01, -3.0471e-01, -2.9481e+00, -1.3985e+00, -2.4038e+00,\n",
      "        -1.7516e+00, -3.3113e+00, -2.3113e+00, -1.6895e+00, -1.5181e+00,\n",
      "        -5.5543e-01, -1.8140e-01, -7.5193e-01, -1.7127e+00, -3.5963e+00,\n",
      "        -2.3535e+00,  1.8044e-02, -2.3577e+00,  8.8442e-01, -2.6737e+00,\n",
      "        -1.2726e+00,  1.6919e+00,  4.5588e-01, -9.1872e-01, -8.0934e-01,\n",
      "         3.1760e+00,  1.0599e+00,  4.3028e+00,  2.7527e+00, -1.9504e-01,\n",
      "        -3.3915e-01,  3.4688e-01,  1.1981e+00, -2.7425e+00, -1.3104e+00,\n",
      "        -3.5303e+00, -4.7927e+00,  2.9885e-01, -2.9616e+00, -1.1569e+00,\n",
      "        -2.0118e+00, -2.8661e+00, -2.3766e+00, -3.5594e+00, -2.5055e+00,\n",
      "        -1.8065e+00, -1.4364e+00, -3.7132e+00,  9.4471e-01, -5.8360e-01])\n",
      "tensor([2.3481e-09, 6.5431e-10, 1.7301e-09, 6.1624e-10, 1.1264e-09, 1.0781e-09,\n",
      "        1.9536e-10, 3.1228e-10, 4.0370e-10, 3.2706e-09, 1.0490e-09, 6.3687e-11,\n",
      "        9.1889e-11, 1.3239e-09, 1.9062e-11, 7.8067e-11, 9.2260e-11, 2.7559e-10,\n",
      "        9.6937e-11, 1.3897e-09, 2.5832e-11, 2.2468e-10, 1.3943e-11, 4.2217e-10,\n",
      "        3.5538e-11, 2.0848e-10, 8.8030e-10, 1.8573e-10, 3.2565e-10, 1.9603e-10,\n",
      "        9.2190e-10, 1.4892e-10, 9.5809e-10, 4.9259e-08, 1.1416e-08, 8.2868e-10,\n",
      "        3.4178e-10, 1.4165e-10, 5.3986e-10, 2.4389e-10, 3.1630e-10, 4.0876e-11,\n",
      "        5.1382e-11, 6.9006e-11, 2.3989e-10, 1.5057e-09, 1.3385e-10, 1.7264e-10,\n",
      "        1.6918e-11, 3.0547e-09, 3.6063e-09, 2.3726e-09, 7.5491e-10, 2.7675e-10,\n",
      "        1.2028e-09, 1.2653e-10, 1.0018e-10, 2.7093e-10, 9.7266e-10, 1.6286e-10,\n",
      "        8.9146e-10, 4.7381e-10, 1.6552e-09, 4.3600e-10, 2.8862e-10, 5.6620e-09,\n",
      "        4.8675e-10, 7.1834e-10, 1.0363e-10, 1.4599e-10, 9.2459e-10, 1.6428e-09,\n",
      "        2.4226e-11, 1.9320e-10, 1.2220e-10, 4.0315e-11, 2.1129e-10, 1.0415e-09,\n",
      "        1.3733e-09, 2.9996e-09, 1.4548e-10, 2.6116e-12, 3.8416e-11, 1.4354e-10,\n",
      "        9.3972e-11, 9.8930e-11, 9.9236e-11, 3.0881e-11, 9.4170e-12, 1.3749e-11,\n",
      "        2.8564e-11, 3.9008e-11, 9.0359e-11, 5.3582e-10, 3.3887e-10, 1.4558e-10,\n",
      "        3.1561e-11, 8.8609e-10, 6.9899e-09, 1.9349e-09, 5.9228e-10, 8.5348e-10,\n",
      "        3.3611e-11, 8.9468e-10, 2.0760e-07, 1.7868e-10, 9.0197e-09, 5.2151e-10,\n",
      "        5.6441e-10, 3.6769e-10, 1.0536e-09, 6.3701e-09, 1.4354e-08, 2.1142e-09,\n",
      "        8.1398e-10, 1.8267e-10, 6.3218e-09, 1.2965e-09, 9.3714e-09, 9.3227e-10,\n",
      "        8.9538e-10, 6.6052e-09, 5.7457e-09, 1.4282e-09, 3.3186e-09, 2.7231e-10,\n",
      "        1.9648e-08, 8.4576e-11, 7.4640e-10, 5.2525e-11, 9.4327e-11, 2.2473e-11,\n",
      "        7.5843e-11, 1.0127e-09, 1.9716e-10, 3.6399e-11, 9.1377e-10, 3.6656e-10,\n",
      "        3.3411e-11, 1.3764e-08, 3.9510e-10, 1.2752e-10, 5.0665e-09, 7.7778e-09,\n",
      "        2.2149e-09, 5.2265e-10, 6.4322e-11, 3.7741e-10, 1.7150e-09, 2.2948e-10,\n",
      "        3.9897e-09, 1.3241e-07, 2.8324e-09, 4.6353e-11, 5.4472e-08, 3.7432e-10,\n",
      "        3.7640e-09, 5.8699e-09, 8.0853e-08, 5.0495e-07, 1.3913e-07, 3.0068e-06,\n",
      "        1.6786e-06, 3.5274e-04, 1.0764e-06, 3.2173e-07, 4.3314e-07, 1.3588e-06,\n",
      "        1.1400e-06, 3.7187e-07, 7.3918e-07, 4.9636e-10, 1.7724e-09, 1.0739e-08,\n",
      "        5.3456e-05, 1.9184e-05, 3.2966e-08, 6.8885e-08, 1.7366e-09, 2.6353e-08,\n",
      "        1.2075e-07, 1.1135e-10, 7.6910e-06, 3.7088e-10, 1.6683e-07, 1.1756e-06,\n",
      "        8.7478e-06, 3.3260e-08, 2.3310e-07, 2.6062e-07, 3.1742e-10, 1.0986e-05,\n",
      "        1.2388e-07, 4.6652e-06, 1.2774e-07, 2.7199e-08, 5.0354e-09, 4.0121e-08,\n",
      "        3.7112e-08, 7.4258e-09, 5.9076e-08, 3.7611e-07, 3.1048e-08, 1.6152e-09,\n",
      "        5.3525e-09, 8.1840e-08, 4.6329e-09, 1.3930e-06, 7.6408e-08, 2.6485e-07,\n",
      "        9.6174e-10, 1.0223e-08, 3.2482e-08, 3.7745e-07, 2.6522e-07, 2.7211e-08,\n",
      "        1.3948e-08, 8.6253e-09, 4.7572e-08, 4.2432e-08, 2.2972e-07, 2.3869e-09,\n",
      "        9.8019e-08, 2.9218e-07, 1.6240e-06, 4.3895e-05, 4.0299e-06, 1.4040e-05,\n",
      "        1.0144e-09, 6.6420e-08, 2.0071e-07, 3.6253e-06, 1.1546e-06, 1.0863e-07,\n",
      "        5.3184e-06, 9.9914e-01, 8.3091e-08, 7.2104e-08, 1.4008e-07, 7.6945e-08,\n",
      "        2.6763e-07, 2.7560e-08, 6.1374e-08, 2.0840e-06, 1.1129e-04, 5.3440e-08,\n",
      "        2.1221e-07, 4.1417e-06, 4.4311e-06, 6.6330e-06, 1.8346e-06, 1.3598e-09,\n",
      "        2.9975e-09, 4.5397e-08, 5.0564e-08, 9.7885e-05, 1.3395e-05, 8.2987e-07,\n",
      "        2.5272e-08, 5.4628e-08, 5.5276e-06, 2.0396e-06, 9.3153e-07, 4.9691e-06,\n",
      "        4.3190e-06, 3.6358e-10, 2.9970e-10, 2.1995e-08, 9.8198e-10, 9.7903e-06,\n",
      "        2.8659e-07, 5.4112e-06, 1.5480e-06, 1.4162e-05, 2.6479e-06, 1.5470e-07,\n",
      "        1.7768e-08, 4.8186e-08, 3.0396e-08, 1.9886e-08, 2.8375e-07, 4.2199e-08,\n",
      "        1.5002e-08, 3.8906e-10, 6.7382e-09, 1.4968e-08, 2.1465e-08, 1.3245e-09,\n",
      "        1.9146e-10, 2.5615e-10, 5.5213e-10, 2.2624e-08, 2.0953e-08, 9.9763e-10,\n",
      "        2.6367e-08, 3.2334e-09, 2.7328e-08, 3.6349e-10, 8.9887e-11, 2.4683e-10,\n",
      "        4.1154e-11, 6.3928e-10, 5.7254e-11, 7.9223e-11, 3.8421e-10, 1.7600e-10,\n",
      "        1.2313e-10, 1.4601e-10, 4.9676e-10, 1.4592e-08, 2.5651e-10, 3.8295e-10,\n",
      "        4.4906e-10, 3.5267e-10, 5.8231e-09, 2.5373e-11, 3.4808e-10, 3.3879e-10,\n",
      "        2.3632e-10, 4.2862e-11, 7.3054e-11, 4.3770e-10, 5.3489e-11, 1.2670e-10,\n",
      "        9.0012e-12, 6.6234e-11, 4.1116e-11, 1.5566e-08, 1.5268e-09, 1.6957e-09,\n",
      "        4.8720e-09, 1.4460e-08, 1.9527e-10, 8.2438e-10, 1.1564e-10, 1.6532e-10,\n",
      "        1.3789e-10, 4.4717e-09, 1.8806e-09, 5.8548e-10, 2.6458e-09, 1.0975e-07,\n",
      "        1.5700e-08, 1.4143e-10, 4.5691e-09, 2.8623e-09, 6.6767e-09, 3.6471e-09,\n",
      "        1.4207e-09, 1.5800e-10, 2.5626e-09, 4.1207e-10, 3.2180e-09, 1.0454e-09,\n",
      "        1.0113e-09, 1.1711e-08, 1.4557e-09, 1.0489e-09, 6.7556e-10, 5.8266e-10,\n",
      "        2.9392e-10, 3.6903e-10, 2.1257e-09, 5.0148e-10, 2.5155e-10, 4.9775e-10,\n",
      "        7.8579e-11, 3.0425e-10, 1.1673e-09, 3.3122e-11, 3.5223e-10, 7.1284e-10,\n",
      "        6.6668e-09, 2.6150e-09, 1.4999e-10, 2.4054e-11, 9.7100e-11, 5.3861e-10,\n",
      "        9.4931e-09, 3.0543e-08, 4.0380e-09, 1.3063e-09, 9.7900e-10, 1.1396e-10,\n",
      "        3.4757e-09, 3.0661e-09, 1.2253e-09, 6.3697e-11, 8.1525e-11, 5.4533e-09,\n",
      "        1.2328e-09, 3.0066e-09, 1.0113e-09, 2.0324e-10, 6.9855e-09, 1.2185e-08,\n",
      "        2.4383e-10, 2.6267e-10, 8.5468e-09, 1.2883e-09, 9.9867e-10, 3.6560e-08,\n",
      "        1.1685e-09, 1.1621e-09, 2.1748e-10, 9.8911e-10, 4.8137e-09, 7.5680e-10,\n",
      "        3.3300e-08, 3.6089e-09, 3.0840e-09, 9.6819e-10, 6.9911e-08, 1.6373e-10,\n",
      "        6.0256e-10, 5.3043e-09, 8.8241e-10, 6.1730e-08, 4.1960e-09, 3.0886e-10,\n",
      "        1.1165e-09, 4.9646e-08, 3.5956e-09, 1.9715e-09, 3.9935e-09, 1.0123e-09,\n",
      "        2.8773e-09, 4.4461e-08, 9.4217e-09, 1.0407e-09, 1.5521e-09, 3.0580e-09,\n",
      "        3.8477e-09, 1.6378e-07, 3.1014e-09, 8.4023e-09, 6.3531e-09, 2.9652e-08,\n",
      "        1.8202e-10, 6.3465e-09, 2.8944e-09, 1.4013e-09, 8.2804e-09, 1.9420e-10,\n",
      "        8.5343e-10, 1.5483e-08, 2.6209e-09, 8.0661e-09, 2.6489e-09, 1.0005e-07,\n",
      "        9.9709e-10, 1.2991e-09, 1.1625e-10, 1.7973e-09, 1.1491e-09, 4.2143e-08,\n",
      "        1.0062e-10, 2.6036e-09, 2.4132e-09, 1.3641e-09, 8.7424e-09, 2.2709e-10,\n",
      "        1.7538e-09, 1.7439e-07, 2.2060e-08, 4.5398e-08, 6.7703e-10, 9.5378e-10,\n",
      "        2.2664e-09, 1.0037e-08, 7.0929e-09, 1.8509e-08, 1.1096e-07, 4.7370e-10,\n",
      "        2.2256e-10, 1.9236e-09, 4.3507e-09, 1.4300e-09, 4.6503e-10, 1.5171e-08,\n",
      "        2.3705e-09, 4.3928e-11, 1.3534e-09, 3.4078e-09, 6.2240e-09, 6.4364e-10,\n",
      "        8.1587e-10, 1.6458e-09, 5.4312e-09, 1.6003e-09, 9.9142e-10, 1.0822e-09,\n",
      "        1.6406e-08, 6.1261e-10, 9.1972e-09, 1.7407e-08, 6.5317e-10, 1.1226e-08,\n",
      "        3.6773e-09, 4.7357e-10, 1.5178e-10, 1.2840e-10, 9.5298e-09, 9.2103e-10,\n",
      "        8.7310e-09, 1.4173e-09, 1.1435e-08, 1.9553e-08, 5.9907e-09, 2.6583e-09,\n",
      "        1.7005e-08, 9.1297e-10, 2.6542e-09, 1.0106e-08, 1.7828e-09, 2.0641e-09,\n",
      "        1.1603e-09, 1.2684e-08, 4.8180e-09, 2.8693e-09, 4.1017e-10, 2.0959e-09,\n",
      "        9.3836e-09, 1.2066e-09, 8.2374e-10, 2.0364e-09, 8.3903e-10, 8.9402e-10,\n",
      "        5.8752e-10, 2.5714e-10, 4.7449e-09, 1.2258e-08, 2.9640e-09, 1.5729e-10,\n",
      "        3.9980e-09, 3.8455e-10, 8.5948e-09, 3.4116e-07, 1.7549e-08, 1.8976e-07,\n",
      "        1.0056e-08, 5.9490e-09, 2.2909e-09, 1.2185e-08, 2.9746e-08, 1.3897e-09,\n",
      "        3.8331e-10, 1.4425e-09, 2.3214e-09, 3.0288e-10, 6.8914e-11, 1.6247e-08,\n",
      "        5.5779e-10, 9.9093e-10, 9.9682e-10, 9.0182e-10, 7.9010e-08, 1.9728e-09,\n",
      "        1.0392e-09, 1.5863e-08, 7.2625e-10, 1.3949e-08, 3.7439e-08, 9.5637e-10,\n",
      "        6.4626e-11, 5.2309e-09, 1.4192e-08, 1.8934e-08, 3.1736e-09, 1.7052e-09,\n",
      "        1.6612e-10, 2.3149e-10, 2.7194e-09, 2.4097e-10, 1.9841e-09, 2.2541e-09,\n",
      "        1.1728e-08, 7.5486e-09, 3.6943e-09, 5.4126e-06, 4.0435e-09, 1.0568e-08,\n",
      "        1.7590e-09, 1.0050e-09, 7.6066e-10, 1.0508e-09, 1.0876e-08, 1.1178e-09,\n",
      "        7.0060e-09, 1.1107e-09, 7.7756e-10, 8.6815e-10, 6.7510e-11, 8.2769e-10,\n",
      "        3.5367e-09, 1.8909e-09, 1.9255e-10, 9.7633e-11, 1.2079e-09, 1.8902e-08,\n",
      "        6.9372e-09, 2.5131e-10, 8.4569e-10, 9.0219e-10, 1.9592e-09, 3.9753e-09,\n",
      "        6.1693e-10, 1.4629e-09, 4.3163e-10, 5.8582e-08, 2.0278e-09, 1.8568e-09,\n",
      "        1.4957e-10, 3.0392e-10, 3.2438e-10, 4.0872e-10, 3.0141e-09, 6.3638e-10,\n",
      "        1.8286e-08, 8.7534e-09, 2.3075e-09, 4.7843e-09, 1.9394e-09, 2.6525e-10,\n",
      "        6.9880e-09, 1.8639e-09, 2.4535e-09, 9.1526e-09, 2.8347e-09, 1.5425e-08,\n",
      "        2.6862e-09, 3.2177e-09, 1.7887e-08, 3.3310e-09, 4.9359e-09, 9.3499e-09,\n",
      "        6.7793e-10, 6.1117e-09, 7.8449e-09, 8.0903e-08, 7.8786e-10, 4.1588e-09,\n",
      "        2.8923e-09, 7.0853e-10, 5.6554e-09, 3.3979e-10, 1.5602e-08, 5.2794e-10,\n",
      "        6.3980e-10, 1.4552e-10, 8.5638e-10, 9.0493e-09, 2.8261e-09, 1.2394e-09,\n",
      "        1.3056e-08, 4.4417e-09, 9.4616e-09, 6.4879e-09, 1.6630e-10, 3.6490e-09,\n",
      "        8.2982e-09, 2.9361e-09, 4.6302e-10, 2.0606e-09, 1.0812e-08, 7.1616e-10,\n",
      "        1.1035e-09, 7.8854e-10, 2.9712e-09, 1.3056e-10, 7.8463e-10, 6.1576e-10,\n",
      "        2.6836e-09, 1.0340e-09, 1.4453e-09, 2.0009e-09, 1.1624e-06, 1.4041e-09,\n",
      "        7.7208e-10, 1.8775e-09, 3.9927e-10, 1.7540e-09, 1.7565e-09, 4.6918e-09,\n",
      "        3.3860e-10, 3.2005e-10, 5.7315e-10, 1.2632e-08, 1.8033e-10, 1.5114e-10,\n",
      "        1.3258e-09, 1.8455e-09, 2.4804e-10, 4.4582e-08, 1.0737e-08, 2.0717e-09,\n",
      "        6.2604e-10, 4.4558e-10, 1.2626e-08, 2.2164e-09, 3.2582e-09, 5.4633e-09,\n",
      "        9.2065e-10, 5.6758e-09, 1.3425e-09, 1.6360e-09, 1.2372e-08, 1.1758e-09,\n",
      "        4.1478e-09, 1.8898e-10, 8.3361e-10, 2.2291e-08, 9.4336e-10, 1.5257e-09,\n",
      "        1.7804e-09, 7.5817e-09, 1.7509e-08, 3.2849e-09, 2.2371e-08, 1.2866e-09,\n",
      "        9.3829e-10, 1.6437e-09, 1.3417e-08, 5.3125e-10, 9.4383e-10, 1.6759e-09,\n",
      "        6.4230e-10, 5.7324e-09, 1.3129e-09, 1.8281e-09, 2.0765e-09, 1.3008e-08,\n",
      "        1.3085e-09, 5.4534e-09, 1.8281e-10, 5.6586e-10, 9.8359e-10, 2.7353e-09,\n",
      "        1.7358e-08, 2.9479e-09, 3.6454e-10, 8.6833e-10, 1.6830e-08, 5.1847e-09,\n",
      "        9.3803e-09, 2.0272e-10, 4.8339e-09, 1.4584e-09, 8.0776e-10, 5.6732e-10,\n",
      "        1.3310e-08, 6.4077e-10, 3.3293e-09, 8.1849e-08, 3.3850e-09, 8.3826e-09,\n",
      "        1.5635e-08, 1.6778e-08, 3.5594e-08, 1.4235e-09, 5.3411e-09, 1.8423e-09,\n",
      "        2.5749e-09, 1.8270e-09, 2.4050e-10, 1.5752e-09, 2.8281e-08, 4.0359e-10,\n",
      "        1.4344e-09, 6.6498e-10, 8.1342e-10, 2.5501e-09, 1.0421e-09, 1.9269e-09,\n",
      "        2.2341e-09, 1.1105e-08, 1.5423e-08, 5.1408e-10, 1.0543e-09, 2.0233e-09,\n",
      "        2.7462e-09, 5.4029e-09, 1.0686e-08, 2.8479e-09, 1.3797e-09, 9.9663e-10,\n",
      "        4.9854e-11, 7.7308e-09, 4.3956e-09, 1.4835e-09, 1.9366e-09, 2.2787e-09,\n",
      "        1.0759e-08, 1.6548e-08, 1.7959e-09, 7.5813e-10, 1.4481e-09, 1.4330e-09,\n",
      "        1.9089e-10, 3.5577e-08, 4.6638e-10, 8.3731e-09, 6.1774e-10, 9.3054e-10,\n",
      "        2.0419e-09, 1.5138e-06, 3.5063e-10, 7.3361e-08, 1.0195e-08, 4.5369e-09,\n",
      "        1.0607e-09, 1.6692e-08, 6.2819e-09, 3.2611e-09, 1.1203e-08, 1.0353e-09,\n",
      "        1.9581e-10, 8.8794e-10, 4.2995e-09, 8.9565e-10, 3.1987e-10, 5.8515e-09,\n",
      "        3.3389e-08, 1.2345e-10, 2.5808e-09, 2.4249e-09, 1.1692e-09, 1.9235e-08,\n",
      "        5.6332e-09, 4.2931e-09, 6.8050e-10, 7.9010e-10, 7.6819e-10, 1.0474e-09,\n",
      "        7.7810e-09, 6.2108e-09, 4.7365e-09, 1.3599e-08, 5.2739e-09, 1.1468e-09,\n",
      "        9.4001e-10, 9.5054e-10, 3.2354e-08, 3.2224e-10, 1.7223e-09, 1.8332e-10,\n",
      "        1.0383e-08, 3.0820e-09, 2.4665e-09, 2.0242e-10, 1.2879e-10, 6.9001e-09,\n",
      "        7.4404e-07, 3.1314e-10, 3.5407e-09, 5.0499e-10, 8.5525e-10, 1.1438e-09,\n",
      "        2.7766e-09, 1.5433e-09, 2.1695e-09, 1.5832e-08, 1.1609e-08, 3.0196e-10,\n",
      "        9.0391e-10, 4.6902e-10, 3.7835e-09, 9.1094e-10, 2.9467e-08, 2.1795e-10,\n",
      "        2.9353e-10, 9.9773e-10, 1.2960e-09, 5.7693e-10, 1.5366e-10, 7.4619e-08,\n",
      "        8.2615e-08, 7.7123e-10, 8.6420e-10, 1.0851e-08, 6.3654e-09, 6.2882e-07,\n",
      "        4.3386e-09, 7.8750e-09, 3.6804e-09, 6.2145e-10, 1.2105e-09, 8.0562e-10,\n",
      "        4.3295e-09, 3.0656e-09, 3.3923e-09, 7.3578e-10, 4.4830e-09, 7.4204e-10,\n",
      "        2.0267e-10, 1.0295e-09, 3.4504e-09, 3.8913e-10, 3.2156e-08, 5.1614e-09,\n",
      "        7.8676e-10, 2.5471e-09, 2.3308e-09, 4.0776e-10, 1.7432e-07, 8.8601e-09,\n",
      "        8.3181e-10, 1.3581e-08, 1.2621e-09, 2.4957e-09, 3.7969e-09, 6.4737e-10,\n",
      "        6.2278e-09, 9.1177e-09, 2.5300e-09, 2.0308e-09, 6.9795e-09, 3.0717e-10,\n",
      "        3.1791e-10, 8.3894e-10, 1.0217e-08, 2.5697e-09, 9.4266e-11, 2.2333e-09,\n",
      "        1.6137e-09, 5.8107e-10, 4.6289e-10, 1.3409e-10, 6.1979e-10, 8.9978e-09,\n",
      "        1.0079e-09, 5.9604e-10, 2.6778e-09, 5.4105e-09, 1.4483e-09, 8.4547e-10,\n",
      "        8.1376e-10, 4.2602e-10, 3.9535e-10, 3.7192e-09, 1.8181e-10, 7.4206e-10,\n",
      "        4.6741e-10, 2.1791e-09, 1.1717e-10, 6.2577e-10, 3.8984e-10, 4.0736e-10,\n",
      "        1.4444e-09, 2.0137e-10, 1.4263e-09, 1.8901e-09, 1.3443e-10, 6.3309e-10,\n",
      "        2.3168e-10, 4.4475e-10, 9.3484e-11, 2.5411e-10, 4.7325e-10, 5.6172e-10,\n",
      "        1.4710e-09, 2.1382e-09, 1.2086e-09, 4.6238e-10, 7.0306e-11, 2.4362e-10,\n",
      "        2.6101e-09, 2.4260e-10, 6.2076e-09, 1.7687e-10, 7.1801e-10, 1.3919e-08,\n",
      "        4.0440e-09, 1.0229e-09, 1.1411e-09, 6.1399e-08, 7.3983e-09, 1.8946e-07,\n",
      "        4.0206e-08, 2.1092e-09, 1.8261e-09, 3.6264e-09, 8.4945e-09, 1.6511e-10,\n",
      "        6.9136e-10, 7.5100e-11, 2.1250e-11, 3.4563e-09, 1.3262e-10, 8.0610e-10,\n",
      "        3.4286e-10, 1.4591e-10, 2.3806e-10, 7.2945e-11, 2.0926e-10, 4.2100e-10,\n",
      "        6.0953e-10, 6.2546e-11, 6.5934e-09, 1.4301e-09])\n"
     ]
    },
    {
     "name": "stderr",
     "output_type": "stream",
     "text": [
      "C:\\Users\\aiguo\\.conda\\envs\\{ECE398}\\lib\\site-packages\\torch\\nn\\functional.py:718: UserWarning: Named tensors and all their associated APIs are an experimental feature and subject to change. Please do not use them for anything important until they are released as stable. (Triggered internally at  ..\\c10/core/TensorImpl.h:1156.)\n",
      "  return torch.max_pool2d(input, kernel_size, stride, padding, dilation, ceil_mode)\n"
     ]
    }
   ],
   "source": [
    "# move the input and model to GPU for speed if available\n",
    "if torch.cuda.is_available():\n",
    "    input_batch = input_batch.to('cuda')\n",
    "    model.to('cuda')\n",
    "\n",
    "with torch.no_grad():\n",
    "    output = model(input_batch)\n",
    "# Tensor of shape 1000, with confidence scores over Imagenet's 1000 classes\n",
    "print(output[0])\n",
    "# The output has unnormalized scores. To get probabilities, you can run a softmax on it.\n",
    "probabilities = torch.nn.functional.softmax(output[0], dim=0)\n",
    "print(probabilities)"
   ]
  },
  {
   "cell_type": "code",
   "execution_count": 33,
   "id": "8368bad0",
   "metadata": {
    "scrolled": true,
    "slideshow": {
     "slide_type": "slide"
    }
   },
   "outputs": [
    {
     "name": "stdout",
     "output_type": "stream",
     "text": [
      "--2021-08-26 10:10:04--  https://raw.githubusercontent.com/pytorch/hub/master/imagenet_classes.txt\n",
      "Resolving raw.githubusercontent.com (raw.githubusercontent.com)... 185.199.109.133, 185.199.110.133, 185.199.111.133, ...\n",
      "Connecting to raw.githubusercontent.com (raw.githubusercontent.com)|185.199.109.133|:443... connected.\n",
      "HTTP request sent, awaiting response... 200 OK\n",
      "Length: 10472 (10K) [text/plain]\n",
      "Saving to: ‘imagenet_classes.txt.3’\n",
      "\n",
      "imagenet_classes.tx 100%[===================>]  10.23K  --.-KB/s    in 0.001s  \n",
      "\n",
      "2021-08-26 10:10:04 (18.0 MB/s) - ‘imagenet_classes.txt.3’ saved [10472/10472]\n",
      "\n"
     ]
    }
   ],
   "source": [
    "# Download ImageNet labels\n",
    "!wget --no-check-certificate https://raw.githubusercontent.com/pytorch/hub/master/imagenet_classes.txt\n"
   ]
  },
  {
   "cell_type": "code",
   "execution_count": 21,
   "id": "666e5363",
   "metadata": {
    "slideshow": {
     "slide_type": "slide"
    }
   },
   "outputs": [
    {
     "name": "stdout",
     "output_type": "stream",
     "text": [
      "231, collie 0.9991403818130493\n",
      "159, Rhodesian_ridgeback 0.00035274471156299114\n",
      "240, Appenzeller 0.00011128986079711467\n",
      "251, dalmatian 9.788531315280125e-05\n",
      "170, Irish_wolfhound 5.3455853048944846e-05\n"
     ]
    }
   ],
   "source": [
    "# Read the categories\n",
    "with open(\"imagenet_classes.txt\", \"r\") as f:\n",
    "    categories = [s.strip() for s in f.readlines()]\n",
    "# Show top categories per image\n",
    "top5_prob, top5_catid = torch.topk(probabilities, 5)\n",
    "for i in range(top5_prob.size(0)):\n",
    "    print(categories[top5_catid[i]], top5_prob[i].item())"
   ]
  },
  {
   "cell_type": "markdown",
   "id": "b3ca4091",
   "metadata": {
    "slideshow": {
     "slide_type": "slide"
    }
   },
   "source": [
    "You will learn in later classes of this course what all this means. So don't worry if this looks like magic right now."
   ]
  },
  {
   "cell_type": "markdown",
   "id": "450652b1",
   "metadata": {
    "slideshow": {
     "slide_type": "slide"
    }
   },
   "source": [
    "## Organizational Details"
   ]
  },
  {
   "cell_type": "markdown",
   "id": "04986ead",
   "metadata": {
    "slideshow": {
     "slide_type": "slide"
    }
   },
   "source": [
    "Let's check the **website** and **canvas**."
   ]
  },
  {
   "cell_type": "markdown",
   "id": "181dcc70",
   "metadata": {
    "slideshow": {
     "slide_type": "slide"
    }
   },
   "source": [
    "- Course materials are confidential. Do not share the materials outside the class. Do you make the materials publicly available. \n",
    "- Grading policy: 30% Homework; 30% Midterm; 40% Final\n",
    "- Homework: 4 homework assignments throughout the semester\n",
    "- Midterm: March 3 2022 during class (proctored on Zoom; attendance required)\n",
    "- Final exam: May 3 2022 during class (proctored on Zoom; attendance required)\n",
    "- Lectures: \n",
    "  * Week 1: On Zoom (https://illinois.zoom.us/j/81977216953?pwd=S3ppZ1BESnlYVUM1ZjE4cEdROVVYdz09)\n",
    "  * The rest of the semester: Provide your preference if you have signed up for the in-person section:  https://www.surveymonkey.com/r/BQTYJKY\n",
    "- Course website: https://courses.grainger.illinois.edu/ece398as/sp2022/"
   ]
  },
  {
   "cell_type": "code",
   "execution_count": null,
   "id": "f7cb853a",
   "metadata": {},
   "outputs": [],
   "source": []
  }
 ],
 "metadata": {
  "celltoolbar": "Slideshow",
  "kernelspec": {
   "display_name": "Python 3 (ipykernel)",
   "language": "python",
   "name": "python3"
  },
  "language_info": {
   "codemirror_mode": {
    "name": "ipython",
    "version": 3
   },
   "file_extension": ".py",
   "mimetype": "text/x-python",
   "name": "python",
   "nbconvert_exporter": "python",
   "pygments_lexer": "ipython3",
   "version": "3.8.8"
  }
 },
 "nbformat": 4,
 "nbformat_minor": 5
}
